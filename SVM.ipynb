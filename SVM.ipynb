{
 "cells": [
  {
   "cell_type": "code",
   "execution_count": 1,
   "metadata": {},
   "outputs": [],
   "source": [
    "import numpy as np #linear algebra\n",
    "import pandas as pd # data processing, CSV file 1/0 (pd read csv)\n",
    "import matplotlib.pyplot as plt #plotting matplotlib inline\n",
    "import warnings\n",
    "warnings.filterwarnings(\"ignore\")"
   ]
  },
  {
   "cell_type": "markdown",
   "metadata": {},
   "source": [
    "# 1. Understanding our data"
   ]
  },
  {
   "cell_type": "code",
   "execution_count": 2,
   "metadata": {},
   "outputs": [],
   "source": [
    "df = pd.read_csv(r\"d:\\DAP391m\\lab 5_Credit Card Fraud Detection\\creditcard.csv\")"
   ]
  },
  {
   "cell_type": "code",
   "execution_count": 3,
   "metadata": {},
   "outputs": [
    {
     "data": {
      "text/plain": [
       "1081"
      ]
     },
     "execution_count": 3,
     "metadata": {},
     "output_type": "execute_result"
    }
   ],
   "source": [
    "df.duplicated().sum()"
   ]
  },
  {
   "cell_type": "code",
   "execution_count": 4,
   "metadata": {},
   "outputs": [
    {
     "data": {
      "text/plain": [
       "1081"
      ]
     },
     "execution_count": 4,
     "metadata": {},
     "output_type": "execute_result"
    }
   ],
   "source": [
    "df.duplicated().sum()"
   ]
  },
  {
   "cell_type": "code",
   "execution_count": 5,
   "metadata": {},
   "outputs": [],
   "source": [
    "df = df.drop_duplicates()"
   ]
  },
  {
   "cell_type": "code",
   "execution_count": 6,
   "metadata": {},
   "outputs": [
    {
     "data": {
      "text/plain": [
       "0"
      ]
     },
     "execution_count": 6,
     "metadata": {},
     "output_type": "execute_result"
    }
   ],
   "source": [
    "df.duplicated().sum()"
   ]
  },
  {
   "cell_type": "markdown",
   "metadata": {},
   "source": [
    "# 2. Preprocessing"
   ]
  },
  {
   "cell_type": "code",
   "execution_count": 7,
   "metadata": {},
   "outputs": [
    {
     "data": {
      "text/html": [
       "<div>\n",
       "<style scoped>\n",
       "    .dataframe tbody tr th:only-of-type {\n",
       "        vertical-align: middle;\n",
       "    }\n",
       "\n",
       "    .dataframe tbody tr th {\n",
       "        vertical-align: top;\n",
       "    }\n",
       "\n",
       "    .dataframe thead th {\n",
       "        text-align: right;\n",
       "    }\n",
       "</style>\n",
       "<table border=\"1\" class=\"dataframe\">\n",
       "  <thead>\n",
       "    <tr style=\"text-align: right;\">\n",
       "      <th></th>\n",
       "      <th>V1</th>\n",
       "      <th>V2</th>\n",
       "      <th>V3</th>\n",
       "      <th>V4</th>\n",
       "      <th>V5</th>\n",
       "      <th>V6</th>\n",
       "      <th>V7</th>\n",
       "      <th>V8</th>\n",
       "      <th>V9</th>\n",
       "      <th>V10</th>\n",
       "      <th>...</th>\n",
       "      <th>V22</th>\n",
       "      <th>V23</th>\n",
       "      <th>V24</th>\n",
       "      <th>V25</th>\n",
       "      <th>V26</th>\n",
       "      <th>V27</th>\n",
       "      <th>V28</th>\n",
       "      <th>Class</th>\n",
       "      <th>scaled Amount</th>\n",
       "      <th>scaled_Time</th>\n",
       "    </tr>\n",
       "  </thead>\n",
       "  <tbody>\n",
       "    <tr>\n",
       "      <th>0</th>\n",
       "      <td>-1.359807</td>\n",
       "      <td>-0.072781</td>\n",
       "      <td>2.536347</td>\n",
       "      <td>1.378155</td>\n",
       "      <td>-0.338321</td>\n",
       "      <td>0.462388</td>\n",
       "      <td>0.239599</td>\n",
       "      <td>0.098698</td>\n",
       "      <td>0.363787</td>\n",
       "      <td>0.090794</td>\n",
       "      <td>...</td>\n",
       "      <td>0.277838</td>\n",
       "      <td>-0.110474</td>\n",
       "      <td>0.066928</td>\n",
       "      <td>0.128539</td>\n",
       "      <td>-0.189115</td>\n",
       "      <td>0.133558</td>\n",
       "      <td>-0.021053</td>\n",
       "      <td>0</td>\n",
       "      <td>0.244200</td>\n",
       "      <td>-1.996823</td>\n",
       "    </tr>\n",
       "    <tr>\n",
       "      <th>1</th>\n",
       "      <td>1.191857</td>\n",
       "      <td>0.266151</td>\n",
       "      <td>0.166480</td>\n",
       "      <td>0.448154</td>\n",
       "      <td>0.060018</td>\n",
       "      <td>-0.082361</td>\n",
       "      <td>-0.078803</td>\n",
       "      <td>0.085102</td>\n",
       "      <td>-0.255425</td>\n",
       "      <td>-0.166974</td>\n",
       "      <td>...</td>\n",
       "      <td>-0.638672</td>\n",
       "      <td>0.101288</td>\n",
       "      <td>-0.339846</td>\n",
       "      <td>0.167170</td>\n",
       "      <td>0.125895</td>\n",
       "      <td>-0.008983</td>\n",
       "      <td>0.014724</td>\n",
       "      <td>0</td>\n",
       "      <td>-0.342584</td>\n",
       "      <td>-1.996823</td>\n",
       "    </tr>\n",
       "    <tr>\n",
       "      <th>2</th>\n",
       "      <td>-1.358354</td>\n",
       "      <td>-1.340163</td>\n",
       "      <td>1.773209</td>\n",
       "      <td>0.379780</td>\n",
       "      <td>-0.503198</td>\n",
       "      <td>1.800499</td>\n",
       "      <td>0.791461</td>\n",
       "      <td>0.247676</td>\n",
       "      <td>-1.514654</td>\n",
       "      <td>0.207643</td>\n",
       "      <td>...</td>\n",
       "      <td>0.771679</td>\n",
       "      <td>0.909412</td>\n",
       "      <td>-0.689281</td>\n",
       "      <td>-0.327642</td>\n",
       "      <td>-0.139097</td>\n",
       "      <td>-0.055353</td>\n",
       "      <td>-0.059752</td>\n",
       "      <td>0</td>\n",
       "      <td>1.158900</td>\n",
       "      <td>-1.996802</td>\n",
       "    </tr>\n",
       "    <tr>\n",
       "      <th>3</th>\n",
       "      <td>-0.966272</td>\n",
       "      <td>-0.185226</td>\n",
       "      <td>1.792993</td>\n",
       "      <td>-0.863291</td>\n",
       "      <td>-0.010309</td>\n",
       "      <td>1.247203</td>\n",
       "      <td>0.237609</td>\n",
       "      <td>0.377436</td>\n",
       "      <td>-1.387024</td>\n",
       "      <td>-0.054952</td>\n",
       "      <td>...</td>\n",
       "      <td>0.005274</td>\n",
       "      <td>-0.190321</td>\n",
       "      <td>-1.175575</td>\n",
       "      <td>0.647376</td>\n",
       "      <td>-0.221929</td>\n",
       "      <td>0.062723</td>\n",
       "      <td>0.061458</td>\n",
       "      <td>0</td>\n",
       "      <td>0.139886</td>\n",
       "      <td>-1.996802</td>\n",
       "    </tr>\n",
       "    <tr>\n",
       "      <th>4</th>\n",
       "      <td>-1.158233</td>\n",
       "      <td>0.877737</td>\n",
       "      <td>1.548718</td>\n",
       "      <td>0.403034</td>\n",
       "      <td>-0.407193</td>\n",
       "      <td>0.095921</td>\n",
       "      <td>0.592941</td>\n",
       "      <td>-0.270533</td>\n",
       "      <td>0.817739</td>\n",
       "      <td>0.753074</td>\n",
       "      <td>...</td>\n",
       "      <td>0.798278</td>\n",
       "      <td>-0.137458</td>\n",
       "      <td>0.141267</td>\n",
       "      <td>-0.206010</td>\n",
       "      <td>0.502292</td>\n",
       "      <td>0.219422</td>\n",
       "      <td>0.215153</td>\n",
       "      <td>0</td>\n",
       "      <td>-0.073813</td>\n",
       "      <td>-1.996781</td>\n",
       "    </tr>\n",
       "  </tbody>\n",
       "</table>\n",
       "<p>5 rows × 31 columns</p>\n",
       "</div>"
      ],
      "text/plain": [
       "         V1        V2        V3        V4        V5        V6        V7  \\\n",
       "0 -1.359807 -0.072781  2.536347  1.378155 -0.338321  0.462388  0.239599   \n",
       "1  1.191857  0.266151  0.166480  0.448154  0.060018 -0.082361 -0.078803   \n",
       "2 -1.358354 -1.340163  1.773209  0.379780 -0.503198  1.800499  0.791461   \n",
       "3 -0.966272 -0.185226  1.792993 -0.863291 -0.010309  1.247203  0.237609   \n",
       "4 -1.158233  0.877737  1.548718  0.403034 -0.407193  0.095921  0.592941   \n",
       "\n",
       "         V8        V9       V10  ...       V22       V23       V24       V25  \\\n",
       "0  0.098698  0.363787  0.090794  ...  0.277838 -0.110474  0.066928  0.128539   \n",
       "1  0.085102 -0.255425 -0.166974  ... -0.638672  0.101288 -0.339846  0.167170   \n",
       "2  0.247676 -1.514654  0.207643  ...  0.771679  0.909412 -0.689281 -0.327642   \n",
       "3  0.377436 -1.387024 -0.054952  ...  0.005274 -0.190321 -1.175575  0.647376   \n",
       "4 -0.270533  0.817739  0.753074  ...  0.798278 -0.137458  0.141267 -0.206010   \n",
       "\n",
       "        V26       V27       V28  Class  scaled Amount  scaled_Time  \n",
       "0 -0.189115  0.133558 -0.021053      0       0.244200    -1.996823  \n",
       "1  0.125895 -0.008983  0.014724      0      -0.342584    -1.996823  \n",
       "2 -0.139097 -0.055353 -0.059752      0       1.158900    -1.996802  \n",
       "3 -0.221929  0.062723  0.061458      0       0.139886    -1.996802  \n",
       "4  0.502292  0.219422  0.215153      0      -0.073813    -1.996781  \n",
       "\n",
       "[5 rows x 31 columns]"
      ]
     },
     "execution_count": 7,
     "metadata": {},
     "output_type": "execute_result"
    }
   ],
   "source": [
    "from sklearn. preprocessing import StandardScaler\n",
    "df ['scaled Amount'] = StandardScaler().fit_transform(df['Amount']. values. reshape(-1, 1))\n",
    "df ['scaled_Time'] = StandardScaler().fit_transform(df['Time']. values. reshape(-1, 1)) \n",
    "df = df. drop (['Time', 'Amount'], axis=1)\n",
    "df.head()"
   ]
  },
  {
   "cell_type": "markdown",
   "metadata": {},
   "source": [
    "# 3. Splitting the Data (Original DataFrame)"
   ]
  },
  {
   "cell_type": "code",
   "execution_count": 8,
   "metadata": {},
   "outputs": [
    {
     "data": {
      "text/plain": [
       "((473, 31), (283253, 31))"
      ]
     },
     "execution_count": 8,
     "metadata": {},
     "output_type": "execute_result"
    }
   ],
   "source": [
    "# Tách các giao dịch gian lận và không gian lận\n",
    "fraud = df[df['Class']==1]\n",
    "non_fraud = df[df['Class']==0]\n",
    "\n",
    "fraud.shape, non_fraud.shape"
   ]
  },
  {
   "cell_type": "code",
   "execution_count": 9,
   "metadata": {},
   "outputs": [],
   "source": [
    "from sklearn.model_selection import train_test_split \n",
    "# Chia dữ liệu: 70% cho train và 30% cho test, cho từng loại giao dịch\n",
    "fraud_train, fraud_test = train_test_split(fraud, test_size=0.3, random_state=42)\n",
    "non_fraud_train, non_fraud_test = train_test_split(non_fraud, test_size=0.3, random_state=42)\n",
    "\n",
    "# Kết hợp lại tập huấn luyện và tập kiểm tra\n",
    "train_data = pd.concat([fraud_train, non_fraud_train])\n",
    "test_data = pd.concat([fraud_test, non_fraud_test])"
   ]
  },
  {
   "cell_type": "code",
   "execution_count": 10,
   "metadata": {},
   "outputs": [
    {
     "data": {
      "text/plain": [
       "((198608, 31), (85118, 31))"
      ]
     },
     "execution_count": 10,
     "metadata": {},
     "output_type": "execute_result"
    }
   ],
   "source": [
    "train_data.shape, test_data.shape"
   ]
  },
  {
   "cell_type": "markdown",
   "metadata": {},
   "source": [
    "# 4. Handling Class imbalance (in training set)"
   ]
  },
  {
   "cell_type": "code",
   "execution_count": 11,
   "metadata": {},
   "outputs": [
    {
     "name": "stdout",
     "output_type": "stream",
     "text": [
      "(198277, 31)\n",
      "(331, 31)\n"
     ]
    }
   ],
   "source": [
    "df_class_0 = train_data[train_data['Class'] == 0]\n",
    "print(df_class_0.shape)\n",
    "df_class_1 = train_data[train_data['Class'] == 1]\n",
    "print(df_class_1.shape)"
   ]
  },
  {
   "cell_type": "code",
   "execution_count": 12,
   "metadata": {},
   "outputs": [
    {
     "data": {
      "text/html": [
       "<div>\n",
       "<style scoped>\n",
       "    .dataframe tbody tr th:only-of-type {\n",
       "        vertical-align: middle;\n",
       "    }\n",
       "\n",
       "    .dataframe tbody tr th {\n",
       "        vertical-align: top;\n",
       "    }\n",
       "\n",
       "    .dataframe thead th {\n",
       "        text-align: right;\n",
       "    }\n",
       "</style>\n",
       "<table border=\"1\" class=\"dataframe\">\n",
       "  <thead>\n",
       "    <tr style=\"text-align: right;\">\n",
       "      <th></th>\n",
       "      <th>V1</th>\n",
       "      <th>V2</th>\n",
       "      <th>V3</th>\n",
       "      <th>V4</th>\n",
       "      <th>V5</th>\n",
       "      <th>V6</th>\n",
       "      <th>V7</th>\n",
       "      <th>V8</th>\n",
       "      <th>V9</th>\n",
       "      <th>V10</th>\n",
       "      <th>...</th>\n",
       "      <th>V22</th>\n",
       "      <th>V23</th>\n",
       "      <th>V24</th>\n",
       "      <th>V25</th>\n",
       "      <th>V26</th>\n",
       "      <th>V27</th>\n",
       "      <th>V28</th>\n",
       "      <th>Class</th>\n",
       "      <th>scaled Amount</th>\n",
       "      <th>scaled_Time</th>\n",
       "    </tr>\n",
       "  </thead>\n",
       "  <tbody>\n",
       "    <tr>\n",
       "      <th>0</th>\n",
       "      <td>1.184788</td>\n",
       "      <td>0.100879</td>\n",
       "      <td>0.727533</td>\n",
       "      <td>1.041925</td>\n",
       "      <td>-0.337233</td>\n",
       "      <td>-0.072003</td>\n",
       "      <td>-0.271685</td>\n",
       "      <td>-0.068826</td>\n",
       "      <td>1.834025</td>\n",
       "      <td>-0.640834</td>\n",
       "      <td>...</td>\n",
       "      <td>-0.043202</td>\n",
       "      <td>-0.052337</td>\n",
       "      <td>0.098926</td>\n",
       "      <td>0.504549</td>\n",
       "      <td>0.427451</td>\n",
       "      <td>-0.023424</td>\n",
       "      <td>0.002113</td>\n",
       "      <td>0</td>\n",
       "      <td>-0.325411</td>\n",
       "      <td>-1.805694</td>\n",
       "    </tr>\n",
       "    <tr>\n",
       "      <th>1</th>\n",
       "      <td>1.249109</td>\n",
       "      <td>-0.832785</td>\n",
       "      <td>0.571217</td>\n",
       "      <td>0.394815</td>\n",
       "      <td>-0.791744</td>\n",
       "      <td>1.019816</td>\n",
       "      <td>-1.158297</td>\n",
       "      <td>0.381368</td>\n",
       "      <td>0.053829</td>\n",
       "      <td>0.726017</td>\n",
       "      <td>...</td>\n",
       "      <td>-0.370214</td>\n",
       "      <td>-0.163594</td>\n",
       "      <td>-1.408119</td>\n",
       "      <td>0.426025</td>\n",
       "      <td>-0.121874</td>\n",
       "      <td>0.087423</td>\n",
       "      <td>0.026178</td>\n",
       "      <td>0</td>\n",
       "      <td>-0.159636</td>\n",
       "      <td>-0.913315</td>\n",
       "    </tr>\n",
       "    <tr>\n",
       "      <th>2</th>\n",
       "      <td>-1.551899</td>\n",
       "      <td>-1.274173</td>\n",
       "      <td>0.120635</td>\n",
       "      <td>-0.241025</td>\n",
       "      <td>0.685632</td>\n",
       "      <td>-0.264442</td>\n",
       "      <td>1.327588</td>\n",
       "      <td>-0.401988</td>\n",
       "      <td>0.730801</td>\n",
       "      <td>0.626380</td>\n",
       "      <td>...</td>\n",
       "      <td>0.294504</td>\n",
       "      <td>1.270073</td>\n",
       "      <td>0.725450</td>\n",
       "      <td>-0.061034</td>\n",
       "      <td>0.101901</td>\n",
       "      <td>-0.062723</td>\n",
       "      <td>-0.086745</td>\n",
       "      <td>0</td>\n",
       "      <td>0.365127</td>\n",
       "      <td>0.824034</td>\n",
       "    </tr>\n",
       "    <tr>\n",
       "      <th>3</th>\n",
       "      <td>2.045151</td>\n",
       "      <td>0.462807</td>\n",
       "      <td>-2.730193</td>\n",
       "      <td>1.126747</td>\n",
       "      <td>1.593338</td>\n",
       "      <td>-0.040047</td>\n",
       "      <td>0.587333</td>\n",
       "      <td>-0.148944</td>\n",
       "      <td>-0.134127</td>\n",
       "      <td>-0.207822</td>\n",
       "      <td>...</td>\n",
       "      <td>0.053243</td>\n",
       "      <td>-0.141711</td>\n",
       "      <td>-0.468245</td>\n",
       "      <td>0.599888</td>\n",
       "      <td>-0.478610</td>\n",
       "      <td>-0.004760</td>\n",
       "      <td>-0.040452</td>\n",
       "      <td>0</td>\n",
       "      <td>-0.293063</td>\n",
       "      <td>1.184283</td>\n",
       "    </tr>\n",
       "    <tr>\n",
       "      <th>4</th>\n",
       "      <td>1.852095</td>\n",
       "      <td>-0.278450</td>\n",
       "      <td>-0.339840</td>\n",
       "      <td>1.606527</td>\n",
       "      <td>-0.431922</td>\n",
       "      <td>-0.233834</td>\n",
       "      <td>-0.204659</td>\n",
       "      <td>-0.012266</td>\n",
       "      <td>1.190130</td>\n",
       "      <td>-0.034655</td>\n",
       "      <td>...</td>\n",
       "      <td>-1.209948</td>\n",
       "      <td>0.399826</td>\n",
       "      <td>-0.167422</td>\n",
       "      <td>-0.340504</td>\n",
       "      <td>-1.098297</td>\n",
       "      <td>0.050319</td>\n",
       "      <td>-0.024472</td>\n",
       "      <td>0</td>\n",
       "      <td>-0.162112</td>\n",
       "      <td>0.616245</td>\n",
       "    </tr>\n",
       "    <tr>\n",
       "      <th>...</th>\n",
       "      <td>...</td>\n",
       "      <td>...</td>\n",
       "      <td>...</td>\n",
       "      <td>...</td>\n",
       "      <td>...</td>\n",
       "      <td>...</td>\n",
       "      <td>...</td>\n",
       "      <td>...</td>\n",
       "      <td>...</td>\n",
       "      <td>...</td>\n",
       "      <td>...</td>\n",
       "      <td>...</td>\n",
       "      <td>...</td>\n",
       "      <td>...</td>\n",
       "      <td>...</td>\n",
       "      <td>...</td>\n",
       "      <td>...</td>\n",
       "      <td>...</td>\n",
       "      <td>...</td>\n",
       "      <td>...</td>\n",
       "      <td>...</td>\n",
       "    </tr>\n",
       "    <tr>\n",
       "      <th>150326</th>\n",
       "      <td>-4.446847</td>\n",
       "      <td>-0.014793</td>\n",
       "      <td>-5.126307</td>\n",
       "      <td>6.945130</td>\n",
       "      <td>5.269255</td>\n",
       "      <td>-4.297177</td>\n",
       "      <td>-2.591242</td>\n",
       "      <td>0.342671</td>\n",
       "      <td>-3.880663</td>\n",
       "      <td>-3.976525</td>\n",
       "      <td>...</td>\n",
       "      <td>-0.049586</td>\n",
       "      <td>-0.226017</td>\n",
       "      <td>-0.401236</td>\n",
       "      <td>0.856124</td>\n",
       "      <td>0.661272</td>\n",
       "      <td>0.492560</td>\n",
       "      <td>0.971834</td>\n",
       "      <td>1</td>\n",
       "      <td>-0.349333</td>\n",
       "      <td>-1.140438</td>\n",
       "    </tr>\n",
       "    <tr>\n",
       "      <th>150327</th>\n",
       "      <td>-3.586964</td>\n",
       "      <td>2.609127</td>\n",
       "      <td>-5.568577</td>\n",
       "      <td>3.631947</td>\n",
       "      <td>-4.543590</td>\n",
       "      <td>-0.157899</td>\n",
       "      <td>-4.089128</td>\n",
       "      <td>2.417305</td>\n",
       "      <td>-3.239901</td>\n",
       "      <td>-5.822449</td>\n",
       "      <td>...</td>\n",
       "      <td>0.428756</td>\n",
       "      <td>0.182032</td>\n",
       "      <td>-0.534598</td>\n",
       "      <td>0.168933</td>\n",
       "      <td>-0.149844</td>\n",
       "      <td>0.685517</td>\n",
       "      <td>-0.299728</td>\n",
       "      <td>1</td>\n",
       "      <td>0.886375</td>\n",
       "      <td>-0.188372</td>\n",
       "    </tr>\n",
       "    <tr>\n",
       "      <th>150328</th>\n",
       "      <td>0.224414</td>\n",
       "      <td>2.994499</td>\n",
       "      <td>-3.432458</td>\n",
       "      <td>3.986519</td>\n",
       "      <td>3.760233</td>\n",
       "      <td>0.165640</td>\n",
       "      <td>1.099378</td>\n",
       "      <td>-0.654557</td>\n",
       "      <td>-2.435416</td>\n",
       "      <td>-2.276733</td>\n",
       "      <td>...</td>\n",
       "      <td>-0.984223</td>\n",
       "      <td>-0.421979</td>\n",
       "      <td>-1.048058</td>\n",
       "      <td>0.726412</td>\n",
       "      <td>0.268625</td>\n",
       "      <td>0.283689</td>\n",
       "      <td>0.419102</td>\n",
       "      <td>1</td>\n",
       "      <td>-0.353327</td>\n",
       "      <td>0.649669</td>\n",
       "    </tr>\n",
       "    <tr>\n",
       "      <th>150329</th>\n",
       "      <td>-0.082983</td>\n",
       "      <td>-3.935919</td>\n",
       "      <td>-2.616709</td>\n",
       "      <td>0.163310</td>\n",
       "      <td>-1.400952</td>\n",
       "      <td>-0.809419</td>\n",
       "      <td>1.501580</td>\n",
       "      <td>-0.471000</td>\n",
       "      <td>1.519743</td>\n",
       "      <td>-1.134454</td>\n",
       "      <td>...</td>\n",
       "      <td>-0.182305</td>\n",
       "      <td>-0.921017</td>\n",
       "      <td>0.111635</td>\n",
       "      <td>-0.071622</td>\n",
       "      <td>-1.125881</td>\n",
       "      <td>-0.170947</td>\n",
       "      <td>0.126221</td>\n",
       "      <td>1</td>\n",
       "      <td>4.027641</td>\n",
       "      <td>1.253090</td>\n",
       "    </tr>\n",
       "    <tr>\n",
       "      <th>150330</th>\n",
       "      <td>-7.923891</td>\n",
       "      <td>-5.198360</td>\n",
       "      <td>-3.000024</td>\n",
       "      <td>4.420666</td>\n",
       "      <td>2.272194</td>\n",
       "      <td>-3.394483</td>\n",
       "      <td>-5.283435</td>\n",
       "      <td>0.131619</td>\n",
       "      <td>0.658176</td>\n",
       "      <td>-0.794994</td>\n",
       "      <td>...</td>\n",
       "      <td>-0.599926</td>\n",
       "      <td>-4.908301</td>\n",
       "      <td>0.410170</td>\n",
       "      <td>-1.167660</td>\n",
       "      <td>0.520508</td>\n",
       "      <td>1.937421</td>\n",
       "      <td>-1.552593</td>\n",
       "      <td>1</td>\n",
       "      <td>-0.304165</td>\n",
       "      <td>-1.214046</td>\n",
       "    </tr>\n",
       "  </tbody>\n",
       "</table>\n",
       "<p>150331 rows × 31 columns</p>\n",
       "</div>"
      ],
      "text/plain": [
       "              V1        V2        V3        V4        V5        V6        V7  \\\n",
       "0       1.184788  0.100879  0.727533  1.041925 -0.337233 -0.072003 -0.271685   \n",
       "1       1.249109 -0.832785  0.571217  0.394815 -0.791744  1.019816 -1.158297   \n",
       "2      -1.551899 -1.274173  0.120635 -0.241025  0.685632 -0.264442  1.327588   \n",
       "3       2.045151  0.462807 -2.730193  1.126747  1.593338 -0.040047  0.587333   \n",
       "4       1.852095 -0.278450 -0.339840  1.606527 -0.431922 -0.233834 -0.204659   \n",
       "...          ...       ...       ...       ...       ...       ...       ...   \n",
       "150326 -4.446847 -0.014793 -5.126307  6.945130  5.269255 -4.297177 -2.591242   \n",
       "150327 -3.586964  2.609127 -5.568577  3.631947 -4.543590 -0.157899 -4.089128   \n",
       "150328  0.224414  2.994499 -3.432458  3.986519  3.760233  0.165640  1.099378   \n",
       "150329 -0.082983 -3.935919 -2.616709  0.163310 -1.400952 -0.809419  1.501580   \n",
       "150330 -7.923891 -5.198360 -3.000024  4.420666  2.272194 -3.394483 -5.283435   \n",
       "\n",
       "              V8        V9       V10  ...       V22       V23       V24  \\\n",
       "0      -0.068826  1.834025 -0.640834  ... -0.043202 -0.052337  0.098926   \n",
       "1       0.381368  0.053829  0.726017  ... -0.370214 -0.163594 -1.408119   \n",
       "2      -0.401988  0.730801  0.626380  ...  0.294504  1.270073  0.725450   \n",
       "3      -0.148944 -0.134127 -0.207822  ...  0.053243 -0.141711 -0.468245   \n",
       "4      -0.012266  1.190130 -0.034655  ... -1.209948  0.399826 -0.167422   \n",
       "...          ...       ...       ...  ...       ...       ...       ...   \n",
       "150326  0.342671 -3.880663 -3.976525  ... -0.049586 -0.226017 -0.401236   \n",
       "150327  2.417305 -3.239901 -5.822449  ...  0.428756  0.182032 -0.534598   \n",
       "150328 -0.654557 -2.435416 -2.276733  ... -0.984223 -0.421979 -1.048058   \n",
       "150329 -0.471000  1.519743 -1.134454  ... -0.182305 -0.921017  0.111635   \n",
       "150330  0.131619  0.658176 -0.794994  ... -0.599926 -4.908301  0.410170   \n",
       "\n",
       "             V25       V26       V27       V28  Class  scaled Amount  \\\n",
       "0       0.504549  0.427451 -0.023424  0.002113      0      -0.325411   \n",
       "1       0.426025 -0.121874  0.087423  0.026178      0      -0.159636   \n",
       "2      -0.061034  0.101901 -0.062723 -0.086745      0       0.365127   \n",
       "3       0.599888 -0.478610 -0.004760 -0.040452      0      -0.293063   \n",
       "4      -0.340504 -1.098297  0.050319 -0.024472      0      -0.162112   \n",
       "...          ...       ...       ...       ...    ...            ...   \n",
       "150326  0.856124  0.661272  0.492560  0.971834      1      -0.349333   \n",
       "150327  0.168933 -0.149844  0.685517 -0.299728      1       0.886375   \n",
       "150328  0.726412  0.268625  0.283689  0.419102      1      -0.353327   \n",
       "150329 -0.071622 -1.125881 -0.170947  0.126221      1       4.027641   \n",
       "150330 -1.167660  0.520508  1.937421 -1.552593      1      -0.304165   \n",
       "\n",
       "        scaled_Time  \n",
       "0         -1.805694  \n",
       "1         -0.913315  \n",
       "2          0.824034  \n",
       "3          1.184283  \n",
       "4          0.616245  \n",
       "...             ...  \n",
       "150326    -1.140438  \n",
       "150327    -0.188372  \n",
       "150328     0.649669  \n",
       "150329     1.253090  \n",
       "150330    -1.214046  \n",
       "\n",
       "[150331 rows x 31 columns]"
      ]
     },
     "execution_count": 12,
     "metadata": {},
     "output_type": "execute_result"
    }
   ],
   "source": [
    "df_class_0_under = df_class_0.sample(n=150000)\n",
    "df_test = pd.concat([df_class_0_under, df_class_1], axis = 0).reset_index(drop=True)\n",
    "df_test"
   ]
  },
  {
   "cell_type": "code",
   "execution_count": 13,
   "metadata": {},
   "outputs": [],
   "source": [
    "x = df_test.drop('Class', axis=1)\n",
    "y = df_test['Class']"
   ]
  },
  {
   "cell_type": "code",
   "execution_count": 14,
   "metadata": {},
   "outputs": [],
   "source": [
    "from imblearn.over_sampling import SVMSMOTE\n",
    "\n",
    "# Áp dụng kỹ thuật oversampling SMOTE trên tập huấn luyện\n",
    "sm = SVMSMOTE(sampling_strategy='minority')\n",
    "x_train_res, y_train_res = sm.fit_resample(x, y)"
   ]
  },
  {
   "cell_type": "code",
   "execution_count": 15,
   "metadata": {},
   "outputs": [
    {
     "data": {
      "text/plain": [
       "((300000, 30), (300000,))"
      ]
     },
     "execution_count": 15,
     "metadata": {},
     "output_type": "execute_result"
    }
   ],
   "source": [
    "x_train_res.shape , y_train_res.shape"
   ]
  },
  {
   "cell_type": "code",
   "execution_count": 16,
   "metadata": {},
   "outputs": [],
   "source": [
    "balanced_train=  pd.concat([pd.DataFrame(x_train_res), pd.DataFrame(y_train_res, columns=['Class'])], axis=1)"
   ]
  },
  {
   "cell_type": "code",
   "execution_count": 17,
   "metadata": {},
   "outputs": [],
   "source": [
    "#original_Xtrain = train_data.drop('Class', axis=1)\n",
    "#original_ytrain = train_data['Class']"
   ]
  },
  {
   "cell_type": "code",
   "execution_count": 18,
   "metadata": {},
   "outputs": [],
   "source": [
    "original_Xtest = test_data.drop('Class', axis=1)\n",
    "original_ytest = test_data['Class']"
   ]
  },
  {
   "cell_type": "code",
   "execution_count": 19,
   "metadata": {},
   "outputs": [],
   "source": [
    "#original_ytrain.value_counts(), original_ytest.value_counts()"
   ]
  },
  {
   "cell_type": "code",
   "execution_count": 20,
   "metadata": {},
   "outputs": [],
   "source": [
    "#original_train = original_Xtrain \n",
    "#original_Xtrain['Class'] = original_ytrain\n",
    "\n",
    "#original_train = original_train. sample(frac=1) \n",
    "#non_fraud_train_ = original_train.loc[original_train['Class'] == 0][:331]\n",
    "\n",
    "#fraud_train_ = original_train. loc[original_train['Class'] == 1]\n",
    "\n",
    "#balanced_train = pd.concat ([fraud_train_, non_fraud_train_]) \n",
    "#balanced_train['Class'].value_counts()"
   ]
  },
  {
   "cell_type": "markdown",
   "metadata": {},
   "source": [
    "# 5. Exploratory Data Analysis (EDA)"
   ]
  },
  {
   "cell_type": "markdown",
   "metadata": {},
   "source": [
    "# 6. Training and Testing the Classifier"
   ]
  },
  {
   "cell_type": "code",
   "execution_count": 21,
   "metadata": {},
   "outputs": [],
   "source": [
    "# Tạo dữ liệu huấn luyện và nhãn từ balanced_train\n",
    "balanced_Xtrain = balanced_train.drop('Class', axis=1) \n",
    "balanced_ytrain = balanced_train['Class']  \n",
    "# Chuyển đổi dữ liệu thành mảng NumPy\n",
    "balanced_Xtrain = balanced_Xtrain.values\n",
    "balanced_ytrain = balanced_ytrain.values"
   ]
  },
  {
   "cell_type": "code",
   "execution_count": 22,
   "metadata": {},
   "outputs": [],
   "source": [
    "# Nhập các thư viện phân loại\n",
    "from sklearn.svm import OneClassSVM \n",
    "from sklearn.svm import SVC\n",
    "\n",
    "\n",
    "# Khởi tạo các bộ phân loại đơn giản\n",
    "classifiers = {\n",
    "    \"Support Vector Classifier\": SVC(),\n",
    "}\n"
   ]
  },
  {
   "cell_type": "code",
   "execution_count": 23,
   "metadata": {},
   "outputs": [
    {
     "name": "stdout",
     "output_type": "stream",
     "text": [
      "Classifiers: Support Vector Classifier\n",
      "Accuracy score: 0.9961347776028572\n",
      "F1 score: 0.4317789291882556\n",
      "ROC AUC score: 0.9383050326057265\n",
      "Confusion matrix:\n",
      "[[84664   312]\n",
      " [   17   125]]\n"
     ]
    },
    {
     "data": {
      "image/png": "[encoded data removed]",
      "text/plain": [
       "<Figure size 640x480 with 2 Axes>"
      ]
     },
     "metadata": {},
     "output_type": "display_data"
    },
    {
     "name": "stdout",
     "output_type": "stream",
     "text": [
      "--------------------------------------------------\n"
     ]
    }
   ],
   "source": [
    "from sklearn import metrics\n",
    "import matplotlib.pyplot as plt  # Đảm bảo bạn đã nhập thư viện matplotlib\n",
    "\n",
    "# Huấn luyện và đánh giá các bộ phân loại\n",
    "for key, classifier in classifiers.items():  # Sửa 'itens' thành 'items'\n",
    "    classifier.fit(balanced_Xtrain, balanced_ytrain)  # Huấn luyện mô hình\n",
    "    original_y_predict = classifier.predict(original_Xtest)  # Dự đoán trên tập test\n",
    "\n",
    "    # In kết quả đánh giá\n",
    "    print(\"Classifiers:\", key)\n",
    "    print(\"Accuracy score:\", metrics.accuracy_score(original_ytest, original_y_predict))  # Sửa thứ tự tham số\n",
    "    print(\"F1 score:\", metrics.f1_score(original_ytest, original_y_predict))  # Sửa thứ tự tham số\n",
    "    print(\"ROC AUC score:\", metrics.roc_auc_score(original_ytest, original_y_predict))  # Sửa thứ tự tham số\n",
    "    print(\"Confusion matrix:\")\n",
    "    confusion_matrix = metrics.confusion_matrix(original_ytest, original_y_predict)  # Sửa thứ tự tham số\n",
    "    print(confusion_matrix)\n",
    "\n",
    "    # Hiển thị ma trận nhầm lẫn\n",
    "    disp = metrics.ConfusionMatrixDisplay(confusion_matrix=confusion_matrix, display_labels=classifier.classes_)\n",
    "    disp.plot()\n",
    "    plt.show()\n",
    "\n",
    "print(\"-\" * 50)  # \"-\" để tạo dấu phân cách"
   ]
  },
  {
   "cell_type": "code",
   "execution_count": 24,
   "metadata": {},
   "outputs": [
    {
     "name": "stdout",
     "output_type": "stream",
     "text": [
      "Best SVM Estimator: SVC(C=1)\n"
     ]
    }
   ],
   "source": [
    "from sklearn.model_selection import GridSearchCV  \n",
    "\n",
    "# Support Vector Classifier\n",
    "svc_params = { \n",
    "    'C': [0.5, 0.7, 0.9, 1], \n",
    "    'kernel': ['rbf', 'poly', 'sigmoid', 'linear']  \n",
    "}\n",
    "\n",
    "grid_svc = GridSearchCV(SVC(), svc_params, scoring='roc_auc', cv=5)  \n",
    "grid_svc.fit(balanced_Xtrain, balanced_ytrain)  # Huấn luyện với GridSearch\n",
    "svc_best_estimator = grid_svc.best_estimator_ \n",
    "\n",
    "print(\"Best SVM Estimator:\", svc_best_estimator)\n"
   ]
  },
  {
   "cell_type": "code",
   "execution_count": 25,
   "metadata": {},
   "outputs": [
    {
     "name": "stdout",
     "output_type": "stream",
     "text": [
      "Support Vector Classifier: SVC(C=1)\n"
     ]
    }
   ],
   "source": [
    "# Định nghĩa từ điển các bộ phân loại\n",
    "classifiers = {\n",
    "    \"Support Vector Classifier\": svc_best_estimator,  # Sử dụng biến chứa mô hình tốt nhất của SVC\n",
    "}\n",
    "\n",
    "# In ra danh sách các bộ phân loại\n",
    "for key, value in classifiers.items():\n",
    "    print(f\"{key}: {value}\")\n"
   ]
  },
  {
   "cell_type": "code",
   "execution_count": 26,
   "metadata": {},
   "outputs": [
    {
     "name": "stdout",
     "output_type": "stream",
     "text": [
      "Classifier: Support Vector Classifier\n",
      "Confusion Matrix:\n",
      " [[84664   312]\n",
      " [   17   125]]\n"
     ]
    },
    {
     "data": {
      "image/png": "[encoded data removed]",
      "text/plain": [
       "<Figure size 640x480 with 2 Axes>"
      ]
     },
     "metadata": {},
     "output_type": "display_data"
    },
    {
     "name": "stdout",
     "output_type": "stream",
     "text": [
      "Accuracy Score: 0.9961347776028572\n",
      "Recall (Fraud Capture Rate): 0.8802816901408451\n",
      "F1 Score: 0.4317789291882556\n",
      "ROC AUC Score: 0.9383050326057265\n",
      "--------------------------------------------------\n"
     ]
    }
   ],
   "source": [
    "from sklearn import metrics\n",
    "import matplotlib.pyplot as plt\n",
    "\n",
    "# Duyệt qua các bộ phân loại trong từ điển classifiers\n",
    "for key, classifier in classifiers.items():\n",
    "    # Huấn luyện mô hình với tập dữ liệu huấn luyện cân bằng\n",
    "    classifier.fit(balanced_Xtrain, balanced_ytrain)\n",
    "    \n",
    "    # Dự đoán trên tập kiểm tra\n",
    "    original_y_predict = classifier.predict(original_Xtest)\n",
    "    \n",
    "    print(\"Classifier:\", key)\n",
    "    \n",
    "    # Tính toán ma trận nhầm lẫn\n",
    "    cm = metrics.confusion_matrix(original_ytest, original_y_predict)\n",
    "    print(\"Confusion Matrix:\\n\", cm)\n",
    "    \n",
    "    # Hiển thị ma trận nhầm lẫn\n",
    "    disp = metrics.ConfusionMatrixDisplay(confusion_matrix=cm, display_labels=classifier.classes_)\n",
    "    disp.plot()\n",
    "    plt.show()\n",
    "    \n",
    "    # Tính toán và in các chỉ số hiệu suất\n",
    "    print(\"Accuracy Score:\", metrics.accuracy_score(original_ytest, original_y_predict))\n",
    "    \n",
    "    # Tính tỷ lệ thu hồi (Recall - tỉ lệ bắt giữ gian lận)\n",
    "    recall = cm[1, 1] / (cm[1, 1] + cm[1, 0])  # Recall = True Positives / (True Positives + False Negatives)\n",
    "    print(\"Recall (Fraud Capture Rate):\", recall)\n",
    "    \n",
    "    # Tính F1 Score\n",
    "    f1 = metrics.f1_score(original_ytest, original_y_predict)\n",
    "    print(\"F1 Score:\", f1)\n",
    "    \n",
    "    # Tính ROC AUC Score\n",
    "    roc_auc = metrics.roc_auc_score(original_ytest, original_y_predict)\n",
    "    print(\"ROC AUC Score:\", roc_auc)\n",
    "\n",
    "    print(\"-\" * 50)  # Dòng phân cách giữa các bộ phân loại\n"
   ]
  }
 ],
 "metadata": {
  "kernelspec": {
   "display_name": "Python 3",
   "language": "python",
   "name": "python3"
  },
  "language_info": {
   "codemirror_mode": {
    "name": "ipython",
    "version": 3
   },
   "file_extension": ".py",
   "mimetype": "text/x-python",
   "name": "python",
   "nbconvert_exporter": "python",
   "pygments_lexer": "ipython3",
   "version": "3.11.3"
  }
 },
 "nbformat": 4,
 "nbformat_minor": 2
}
